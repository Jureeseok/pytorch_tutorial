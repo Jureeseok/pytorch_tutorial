{
  "nbformat": 4,
  "nbformat_minor": 0,
  "metadata": {
    "colab": {
      "name": "basic_of_python.ipynb",
      "version": "0.3.2",
      "provenance": [],
      "include_colab_link": true
    },
    "kernelspec": {
      "name": "python3",
      "display_name": "Python 3"
    },
    "accelerator": "GPU"
  },
  "cells": [
    {
      "cell_type": "markdown",
      "metadata": {
        "id": "view-in-github",
        "colab_type": "text"
      },
      "source": [
        "<a href=\"https://colab.research.google.com/github/JacksianYun/pytorch_tutorial/blob/master/basic_of_python.ipynb\" target=\"_parent\"><img src=\"https://colab.research.google.com/assets/colab-badge.svg\" alt=\"Open In Colab\"/></a>"
      ]
    },
    {
      "metadata": {
        "id": "_0Wa_Mn70JOS",
        "colab_type": "code",
        "colab": {
          "base_uri": "https://localhost:8080/",
          "height": 55
        },
        "outputId": "987deaf4-cdab-41d1-d979-6463aefe3c13"
      },
      "cell_type": "code",
      "source": [
        "# http://pytorch.org/\n",
        "from os.path import exists\n",
        "from wheel.pep425tags import get_abbr_impl, get_impl_ver, get_abi_tag\n",
        "platform = '{}{}-{}'.format(get_abbr_impl(), get_impl_ver(), get_abi_tag())\n",
        "cuda_output = !ldconfig -p|grep cudart.so|sed -e 's/.*\\.\\([0-9]*\\)\\.\\([0-9]*\\)$/cu\\1\\2/'\n",
        "accelerator = cuda_output[0] if exists('/dev/nvidia0') else 'cpu'\n",
        "\n",
        "!pip install -q http://download.pytorch.org/whl/{accelerator}/torch-0.4.1-{platform}-linux_x86_64.whl torchvision\n",
        "import torch"
      ],
      "execution_count": 1,
      "outputs": [
        {
          "output_type": "stream",
          "text": [
            "tcmalloc: large alloc 1073750016 bytes == 0x57548000 @  0x7f52db32b2a4 0x591a07 0x5b5d56 0x502e9a 0x506859 0x502209 0x502f3d 0x506859 0x504c28 0x502540 0x502f3d 0x506859 0x504c28 0x502540 0x502f3d 0x506859 0x504c28 0x502540 0x502f3d 0x507641 0x502209 0x502f3d 0x506859 0x504c28 0x502540 0x502f3d 0x507641 0x504c28 0x502540 0x502f3d 0x507641\n"
          ],
          "name": "stdout"
        }
      ]
    },
    {
      "metadata": {
        "id": "Vfe3EPGs0VuQ",
        "colab_type": "code",
        "colab": {
          "base_uri": "https://localhost:8080/",
          "height": 107
        },
        "outputId": "4fc6bea2-0ea2-4a17-bc85-a1a366b4db21"
      },
      "cell_type": "code",
      "source": [
        "\n",
        "from __future__ import print_function\n",
        "import torch\n",
        "x = torch.rand(5, 3)\n",
        "print(x)"
      ],
      "execution_count": 2,
      "outputs": [
        {
          "output_type": "stream",
          "text": [
            "tensor([[0.1037, 0.8714, 0.2940],\n",
            "        [0.2672, 0.3117, 0.5983],\n",
            "        [0.0662, 0.5946, 0.9839],\n",
            "        [0.1541, 0.6284, 0.6530],\n",
            "        [0.4787, 0.2109, 0.4685]])\n"
          ],
          "name": "stdout"
        }
      ]
    },
    {
      "metadata": {
        "id": "a9hOK4hU0YKN",
        "colab_type": "code",
        "colab": {
          "base_uri": "https://localhost:8080/",
          "height": 35
        },
        "outputId": "e1aca5f1-5998-4483-c13d-f2572001fff0"
      },
      "cell_type": "code",
      "source": [
        "torch.cuda.is_available()"
      ],
      "execution_count": 3,
      "outputs": [
        {
          "output_type": "execute_result",
          "data": {
            "text/plain": [
              "True"
            ]
          },
          "metadata": {
            "tags": []
          },
          "execution_count": 3
        }
      ]
    },
    {
      "metadata": {
        "id": "ueK3JA9M0jpn",
        "colab_type": "text"
      },
      "cell_type": "markdown",
      "source": [
        "## 자료형과 변수"
      ]
    },
    {
      "metadata": {
        "id": "CAXTaE9R0mEJ",
        "colab_type": "code",
        "colab": {}
      },
      "cell_type": "code",
      "source": [
        "x = 1 # x에 1을 대입함. 이제부터 x는 1입니다."
      ],
      "execution_count": 0,
      "outputs": []
    },
    {
      "metadata": {
        "id": "R-Q-OHVO0vt7",
        "colab_type": "code",
        "colab": {
          "base_uri": "https://localhost:8080/",
          "height": 35
        },
        "outputId": "b25c9a73-51df-4526-af53-babde7a19262"
      },
      "cell_type": "code",
      "source": [
        "type(x) #x 의 타입은 integer 형입니다 "
      ],
      "execution_count": 5,
      "outputs": [
        {
          "output_type": "execute_result",
          "data": {
            "text/plain": [
              "int"
            ]
          },
          "metadata": {
            "tags": []
          },
          "execution_count": 5
        }
      ]
    },
    {
      "metadata": {
        "id": "ITwhSdSY0yxO",
        "colab_type": "code",
        "colab": {}
      },
      "cell_type": "code",
      "source": [
        "x = 3.14 #x 는 이제부터 3.14입니다."
      ],
      "execution_count": 0,
      "outputs": []
    },
    {
      "metadata": {
        "id": "SDcj9Zfm02dm",
        "colab_type": "code",
        "colab": {
          "base_uri": "https://localhost:8080/",
          "height": 35
        },
        "outputId": "cb7eaf20-5db8-41ef-f333-912a998af93c"
      },
      "cell_type": "code",
      "source": [
        "type(x) #x의 타입은 float 입니다."
      ],
      "execution_count": 7,
      "outputs": [
        {
          "output_type": "execute_result",
          "data": {
            "text/plain": [
              "float"
            ]
          },
          "metadata": {
            "tags": []
          },
          "execution_count": 7
        }
      ]
    },
    {
      "metadata": {
        "id": "vesulipx065H",
        "colab_type": "text"
      },
      "cell_type": "markdown",
      "source": [
        "파이썬은 인터프리터 언어이면서, 동시에 자료형의 제한이 없습니다. 변수이름만 지정한뒤 어떠한 값을 넣어도 C나 JAVA처럼 에러가 발생하진 않습니다. "
      ]
    },
    {
      "metadata": {
        "id": "aCtuuare1FIO",
        "colab_type": "code",
        "colab": {}
      },
      "cell_type": "code",
      "source": [
        "x = 'abc' # x는 이제부터 'abc'입니다."
      ],
      "execution_count": 0,
      "outputs": []
    },
    {
      "metadata": {
        "id": "tHgVBulY1JXN",
        "colab_type": "code",
        "colab": {
          "base_uri": "https://localhost:8080/",
          "height": 35
        },
        "outputId": "97b260f5-99f5-4ca4-bcdb-bac43f8907ed"
      },
      "cell_type": "code",
      "source": [
        "type(x) # x의 타입은 string 입니다. "
      ],
      "execution_count": 9,
      "outputs": [
        {
          "output_type": "execute_result",
          "data": {
            "text/plain": [
              "str"
            ]
          },
          "metadata": {
            "tags": []
          },
          "execution_count": 9
        }
      ]
    },
    {
      "metadata": {
        "id": "OsfOCleO2Vi3",
        "colab_type": "text"
      },
      "cell_type": "markdown",
      "source": [
        "파이썬에서 변수에 값을 넣는게 자유롭다고 해서 연산도 자유로운것은 아닙니다."
      ]
    },
    {
      "metadata": {
        "id": "TcEroKE71Npk",
        "colab_type": "code",
        "colab": {
          "base_uri": "https://localhost:8080/",
          "height": 172
        },
        "outputId": "797fbac0-8e14-4f9e-f7e3-ccfcf5f072cc"
      },
      "cell_type": "code",
      "source": [
        "1 + '2' #int 형 1과, str형 2는 서로 합칠수 없습니다."
      ],
      "execution_count": 10,
      "outputs": [
        {
          "output_type": "error",
          "ename": "TypeError",
          "evalue": "ignored",
          "traceback": [
            "\u001b[0;31m---------------------------------------------------------------------------\u001b[0m",
            "\u001b[0;31mTypeError\u001b[0m                                 Traceback (most recent call last)",
            "\u001b[0;32m<ipython-input-10-5e5223062a5a>\u001b[0m in \u001b[0;36m<module>\u001b[0;34m()\u001b[0m\n\u001b[0;32m----> 1\u001b[0;31m \u001b[0;36m1\u001b[0m \u001b[0;34m+\u001b[0m \u001b[0;34m'2'\u001b[0m\u001b[0;34m\u001b[0m\u001b[0;34m\u001b[0m\u001b[0m\n\u001b[0m",
            "\u001b[0;31mTypeError\u001b[0m: unsupported operand type(s) for +: 'int' and 'str'"
          ]
        }
      ]
    },
    {
      "metadata": {
        "id": "AaD1cezt2eL4",
        "colab_type": "code",
        "colab": {
          "base_uri": "https://localhost:8080/",
          "height": 35
        },
        "outputId": "f30afc96-3524-4439-885c-3a1a02a07896"
      },
      "cell_type": "code",
      "source": [
        "1+int('2') # str을 int형으로 만들면 1 + 2 가 됩니다. "
      ],
      "execution_count": 11,
      "outputs": [
        {
          "output_type": "execute_result",
          "data": {
            "text/plain": [
              "3"
            ]
          },
          "metadata": {
            "tags": []
          },
          "execution_count": 11
        }
      ]
    },
    {
      "metadata": {
        "id": "SbBy7m2-2ob2",
        "colab_type": "code",
        "colab": {
          "base_uri": "https://localhost:8080/",
          "height": 35
        },
        "outputId": "6f1ad1e2-7195-4a11-dd07-e7ed080c922f"
      },
      "cell_type": "code",
      "source": [
        "str(1) + '2' # 반대로 int를 str형으로 만들면 문자 두개를 순서대로 붙인 모양이 됩니다. "
      ],
      "execution_count": 12,
      "outputs": [
        {
          "output_type": "execute_result",
          "data": {
            "text/plain": [
              "'12'"
            ]
          },
          "metadata": {
            "tags": []
          },
          "execution_count": 12
        }
      ]
    },
    {
      "metadata": {
        "id": "GXccMEq02xvf",
        "colab_type": "text"
      },
      "cell_type": "markdown",
      "source": [
        "프린트 방식은 여러가지가 있습니다. "
      ]
    },
    {
      "metadata": {
        "id": "vXGFMkL32taC",
        "colab_type": "code",
        "colab": {
          "base_uri": "https://localhost:8080/",
          "height": 35
        },
        "outputId": "40c05ab1-769c-4bb0-cd90-8bdee272b1ed"
      },
      "cell_type": "code",
      "source": [
        "print(1) #이런식으로 괄호 안에 직접 쓰는 방법도 있고"
      ],
      "execution_count": 13,
      "outputs": [
        {
          "output_type": "stream",
          "text": [
            "1\n"
          ],
          "name": "stdout"
        }
      ]
    },
    {
      "metadata": {
        "id": "E-CfySJt21Gn",
        "colab_type": "code",
        "colab": {
          "base_uri": "https://localhost:8080/",
          "height": 35
        },
        "outputId": "10624e86-8dc3-4352-cade-74a86bf5fa45"
      },
      "cell_type": "code",
      "source": [
        "print('{} {}'.format(\"첫번째인자\",\"두번째인자\")) #괄호를 통해 순서대로 출력하는것도 가능합니다."
      ],
      "execution_count": 19,
      "outputs": [
        {
          "output_type": "stream",
          "text": [
            "첫번째인자 두번째인자\n"
          ],
          "name": "stdout"
        }
      ]
    },
    {
      "metadata": {
        "id": "fXr0Uqpo2_ax",
        "colab_type": "code",
        "colab": {
          "base_uri": "https://localhost:8080/",
          "height": 35
        },
        "outputId": "65ca6021-1914-499f-c2ca-47b620803048"
      },
      "cell_type": "code",
      "source": [
        "print('{1} {0}'.format(\"첫번째인자\",\"두번째인자\")) #괄호안에 숫자를 넣어서 반대로 출력하는 것도 가능합니다."
      ],
      "execution_count": 20,
      "outputs": [
        {
          "output_type": "stream",
          "text": [
            "두번째인자 첫번째인자\n"
          ],
          "name": "stdout"
        }
      ]
    },
    {
      "metadata": {
        "id": "XolMkVVH3iU2",
        "colab_type": "code",
        "colab": {
          "base_uri": "https://localhost:8080/",
          "height": 35
        },
        "outputId": "35115003-a8cb-4289-a56e-471da156346a"
      },
      "cell_type": "code",
      "source": [
        "print('{0} | {0:f} | {0:.2f} | {0:.0f} | {0:%} | {0:.2%}'.format(0.123456)) # 그 외에도 이렇게 여러가지 방법으로 프린트 할수 있습니다."
      ],
      "execution_count": 21,
      "outputs": [
        {
          "output_type": "stream",
          "text": [
            "0.123456 | 0.123456 | 0.12 | 0 | 12.345600% | 12.35%\n"
          ],
          "name": "stdout"
        }
      ]
    },
    {
      "metadata": {
        "id": "B3zF8JpL34yB",
        "colab_type": "code",
        "colab": {
          "base_uri": "https://localhost:8080/",
          "height": 35
        },
        "outputId": "1d366c6e-d6da-45dc-b5d3-88c4f1dbc24c"
      },
      "cell_type": "code",
      "source": [
        "print(len('안녕하세요')) #길이를 알고 싶을땐 len을 쓰시면 됩니다. "
      ],
      "execution_count": 22,
      "outputs": [
        {
          "output_type": "stream",
          "text": [
            "5\n"
          ],
          "name": "stdout"
        }
      ]
    },
    {
      "metadata": {
        "id": "zkIVAK5D4A5V",
        "colab_type": "code",
        "colab": {
          "base_uri": "https://localhost:8080/",
          "height": 53
        },
        "outputId": "0c9ac356-704c-4b14-bb3d-6d0578b88ad0"
      },
      "cell_type": "code",
      "source": [
        "sentence = 'hello world'\n",
        "print(len(sentence))\n",
        "print(sentence[0])  #string은 동시에 인덱스로 접근이 가능합니다. list처럼 쓰실수 있습니다. "
      ],
      "execution_count": 23,
      "outputs": [
        {
          "output_type": "stream",
          "text": [
            "11\n",
            "h\n"
          ],
          "name": "stdout"
        }
      ]
    },
    {
      "metadata": {
        "id": "ymJy79Gx4KFE",
        "colab_type": "code",
        "colab": {
          "base_uri": "https://localhost:8080/",
          "height": 35
        },
        "outputId": "aebb2aef-eec2-432a-e89d-6f195e0a687a"
      },
      "cell_type": "code",
      "source": [
        "print(sentence[0:3]) #문장을 앞에서 3개만 출력해보겠습니다. "
      ],
      "execution_count": 24,
      "outputs": [
        {
          "output_type": "stream",
          "text": [
            "hel\n"
          ],
          "name": "stdout"
        }
      ]
    },
    {
      "metadata": {
        "id": "w2Zs0opb4Wvv",
        "colab_type": "code",
        "colab": {
          "base_uri": "https://localhost:8080/",
          "height": 35
        },
        "outputId": "fd3da2e3-1258-45c5-af8e-74da63987235"
      },
      "cell_type": "code",
      "source": [
        "print(sentence[-3:]) #문장을 뒤에서 3개만 출력해보겠습니다. "
      ],
      "execution_count": 25,
      "outputs": [
        {
          "output_type": "stream",
          "text": [
            "rld\n"
          ],
          "name": "stdout"
        }
      ]
    },
    {
      "metadata": {
        "id": "UZoBuxmp4eNH",
        "colab_type": "text"
      },
      "cell_type": "markdown",
      "source": [
        "슬라이스는 list 조작중에 가장 빈번하게 쓰이는 방법중에 하나로 [ start : end ]  꼴로  쓰입니다. 이 인덱스의 의미는 start 부터 end-1 까지라는 의미입니다.  만약 start가 비어있으면 0, end가 비어있으면 전체길이값이 default로 들어갑니다."
      ]
    },
    {
      "metadata": {
        "id": "AGkSzuba4rQn",
        "colab_type": "text"
      },
      "cell_type": "markdown",
      "source": [
        "또한 마이너스(-)는 뒤에서부터 몇번째라는 의미입니다. 몇가지 용례를 통해 좀더 자세히 보도록 합시다 "
      ]
    },
    {
      "metadata": {
        "id": "fxQe8PVh4cqT",
        "colab_type": "code",
        "colab": {
          "base_uri": "https://localhost:8080/",
          "height": 53
        },
        "outputId": "0ee5b672-cc53-4740-939c-91694da15026"
      },
      "cell_type": "code",
      "source": [
        "print(sentence[:5 ])\n",
        "print(sentence[0:5])"
      ],
      "execution_count": 27,
      "outputs": [
        {
          "output_type": "stream",
          "text": [
            "hello\n",
            "hello\n"
          ],
          "name": "stdout"
        }
      ]
    },
    {
      "metadata": {
        "id": "3qN5HjLv5EGE",
        "colab_type": "code",
        "colab": {
          "base_uri": "https://localhost:8080/",
          "height": 71
        },
        "outputId": "a6b7f1c3-f3a0-412d-ca5f-c467da1ad09e"
      },
      "cell_type": "code",
      "source": [
        "print(sentence[5:])\n",
        "print(sentence[5:11])\n",
        "print(sentence[5:100]) #만약 end길이가 최대 길이보다 넘어가게 되면 길이에 맞게 재조정됩니다."
      ],
      "execution_count": 29,
      "outputs": [
        {
          "output_type": "stream",
          "text": [
            " world\n",
            " world\n",
            " world\n"
          ],
          "name": "stdout"
        }
      ]
    },
    {
      "metadata": {
        "id": "HcRRnoBw5XCf",
        "colab_type": "text"
      },
      "cell_type": "markdown",
      "source": [
        "맨 앞과 맨 뒤만 빼고 나머지만 출력해보겠습니다. "
      ]
    },
    {
      "metadata": {
        "id": "ok4c4U4t5KpN",
        "colab_type": "code",
        "colab": {
          "base_uri": "https://localhost:8080/",
          "height": 35
        },
        "outputId": "6d962b6d-fa18-41da-cbea-c50721a29503"
      },
      "cell_type": "code",
      "source": [
        "print(sentence[1:-1])"
      ],
      "execution_count": 30,
      "outputs": [
        {
          "output_type": "stream",
          "text": [
            "ello worl\n"
          ],
          "name": "stdout"
        }
      ]
    },
    {
      "metadata": {
        "id": "T0LFtExb5eQn",
        "colab_type": "text"
      },
      "cell_type": "markdown",
      "source": [
        "문장에도 안될것 같은 연산들이 가능합니다. "
      ]
    },
    {
      "metadata": {
        "id": "4e9Iq6-05brH",
        "colab_type": "code",
        "colab": {
          "base_uri": "https://localhost:8080/",
          "height": 125
        },
        "outputId": "dc3536bc-2349-4699-813e-ab1ef1fdb5c6"
      },
      "cell_type": "code",
      "source": [
        "print((sentence+'\\n') * 5)"
      ],
      "execution_count": 33,
      "outputs": [
        {
          "output_type": "stream",
          "text": [
            "hello world\n",
            "hello world\n",
            "hello world\n",
            "hello world\n",
            "hello world\n",
            "\n"
          ],
          "name": "stdout"
        }
      ]
    },
    {
      "metadata": {
        "id": "5_4ECDgN5yIH",
        "colab_type": "text"
      },
      "cell_type": "markdown",
      "source": [
        "어물쩡 list는 넘어가고 dict로 넘어가겠습니다."
      ]
    },
    {
      "metadata": {
        "id": "mz2Tnxkm5iyg",
        "colab_type": "code",
        "colab": {}
      },
      "cell_type": "code",
      "source": [
        "sample = {} # dict는 말그대로 사전을 의미합니다. \n",
        "sample = {'height' : 180} # 앞에는 key값 뒤에는 value값 형태입니다. 구분은 ':' 로 합니다."
      ],
      "execution_count": 0,
      "outputs": []
    },
    {
      "metadata": {
        "id": "5sBX6AKW555c",
        "colab_type": "code",
        "colab": {
          "base_uri": "https://localhost:8080/",
          "height": 35
        },
        "outputId": "09ea8240-4ed0-4c75-9210-1b937261e71a"
      },
      "cell_type": "code",
      "source": [
        "sample['age'] = 30  # 이렇게 list값을 지정하는것처럼 하실수도 있습니다. \n",
        "sample['job'] = 'business man'\n",
        "print(sample)  # 프린트 해보면 하나에 다 모여있게 됩니다. "
      ],
      "execution_count": 37,
      "outputs": [
        {
          "output_type": "stream",
          "text": [
            "{'height': 180, 'age': 30, 'job': 'business man'}\n"
          ],
          "name": "stdout"
        }
      ]
    },
    {
      "metadata": {
        "id": "l_HDQJd06DTO",
        "colab_type": "text"
      },
      "cell_type": "markdown",
      "source": [
        "dict 타입은 키를 토대로 값을 찾아낼 수 있습니다. "
      ]
    },
    {
      "metadata": {
        "id": "itxu5Agv6B_8",
        "colab_type": "code",
        "colab": {
          "base_uri": "https://localhost:8080/",
          "height": 35
        },
        "outputId": "7af5f7fc-e55b-4b2b-8bff-3a98d57827de"
      },
      "cell_type": "code",
      "source": [
        "print(sample['height'])"
      ],
      "execution_count": 38,
      "outputs": [
        {
          "output_type": "stream",
          "text": [
            "180\n"
          ],
          "name": "stdout"
        }
      ]
    },
    {
      "metadata": {
        "id": "QhOGJawR6k_n",
        "colab_type": "text"
      },
      "cell_type": "markdown",
      "source": [
        "마지막으로 튜플입니다. 튜플은 값이 변하지 않는 list라고 생각하시면 조금 더 쉬울것 같습니다. 표현은 () 형식으로 합니다. "
      ]
    },
    {
      "metadata": {
        "id": "Zzrt-kja6f_R",
        "colab_type": "code",
        "colab": {}
      },
      "cell_type": "code",
      "source": [
        "coord = (1000, 2000)"
      ],
      "execution_count": 0,
      "outputs": []
    },
    {
      "metadata": {
        "id": "2rEaIfXD6vUc",
        "colab_type": "code",
        "colab": {
          "base_uri": "https://localhost:8080/",
          "height": 35
        },
        "outputId": "743949a9-6ed4-495a-d897-3b3aeb2299a3"
      },
      "cell_type": "code",
      "source": [
        "type(coord)"
      ],
      "execution_count": 40,
      "outputs": [
        {
          "output_type": "execute_result",
          "data": {
            "text/plain": [
              "tuple"
            ]
          },
          "metadata": {
            "tags": []
          },
          "execution_count": 40
        }
      ]
    },
    {
      "metadata": {
        "id": "JkdqscAl6wAx",
        "colab_type": "code",
        "colab": {
          "base_uri": "https://localhost:8080/",
          "height": 172
        },
        "outputId": "76cfab53-5c43-4952-a529-0a5f1afd9c0a"
      },
      "cell_type": "code",
      "source": [
        "coord[0] = 3.14 #값을 변화시킬순 없습니다만"
      ],
      "execution_count": 41,
      "outputs": [
        {
          "output_type": "error",
          "ename": "TypeError",
          "evalue": "ignored",
          "traceback": [
            "\u001b[0;31m---------------------------------------------------------------------------\u001b[0m",
            "\u001b[0;31mTypeError\u001b[0m                                 Traceback (most recent call last)",
            "\u001b[0;32m<ipython-input-41-ee9a0fd30a24>\u001b[0m in \u001b[0;36m<module>\u001b[0;34m()\u001b[0m\n\u001b[0;32m----> 1\u001b[0;31m \u001b[0mcoord\u001b[0m\u001b[0;34m[\u001b[0m\u001b[0;36m0\u001b[0m\u001b[0;34m]\u001b[0m \u001b[0;34m=\u001b[0m \u001b[0;36m3.14\u001b[0m\u001b[0;34m\u001b[0m\u001b[0;34m\u001b[0m\u001b[0m\n\u001b[0m",
            "\u001b[0;31mTypeError\u001b[0m: 'tuple' object does not support item assignment"
          ]
        }
      ]
    },
    {
      "metadata": {
        "id": "Rgd0jvIH62ve",
        "colab_type": "code",
        "colab": {
          "base_uri": "https://localhost:8080/",
          "height": 71
        },
        "outputId": "2d5921f5-5d5d-4533-dd13-d5ed0886b8ff"
      },
      "cell_type": "code",
      "source": [
        "print(coord)\n",
        "print(coord[0])\n",
        "print(coord[1]) #값을 자유롭게 접근할 수는 있습니다."
      ],
      "execution_count": 43,
      "outputs": [
        {
          "output_type": "stream",
          "text": [
            "(1000, 2000)\n",
            "1000\n",
            "2000\n"
          ],
          "name": "stdout"
        }
      ]
    },
    {
      "metadata": {
        "id": "xvlezbkU7AX1",
        "colab_type": "text"
      },
      "cell_type": "markdown",
      "source": [
        "튜플은 전달과정에 있어서 절대 변화하면 안되는 값을 보낼때 많이 쓰입니다. (ex : 함수의 인자들)"
      ]
    },
    {
      "metadata": {
        "id": "Xgjr1hMn7JnG",
        "colab_type": "text"
      },
      "cell_type": "markdown",
      "source": [
        "# 파이썬의 함수"
      ]
    },
    {
      "metadata": {
        "id": "VC9f87gn7NYv",
        "colab_type": "text"
      },
      "cell_type": "markdown",
      "source": [
        "파이썬의 함수는 매우 직관적입니다.  함수의 area는 선언 부 이후줄부터 선언부 줄보다 들여쓰기 되어있는 모든 라인입니다. "
      ]
    },
    {
      "metadata": {
        "id": "NfiBqRyI64z2",
        "colab_type": "code",
        "colab": {
          "base_uri": "https://localhost:8080/",
          "height": 35
        },
        "outputId": "b52d23b5-adfe-48fc-e3f8-f8e46018458d"
      },
      "cell_type": "code",
      "source": [
        "def sample_func() :  #함수의 선언부입니다. 이름은 sample_func네요\n",
        "  print('in sample func')\n",
        "  \n",
        "sample_func() #함수 외부에서 호출하는 방식입니다."
      ],
      "execution_count": 45,
      "outputs": [
        {
          "output_type": "stream",
          "text": [
            "in sample func\n"
          ],
          "name": "stdout"
        }
      ]
    },
    {
      "metadata": {
        "id": "Ss4MK3zm7w7J",
        "colab_type": "code",
        "colab": {
          "base_uri": "https://localhost:8080/",
          "height": 215
        },
        "outputId": "6afeb34b-1da9-41a0-8c1b-f32317d1db9b"
      },
      "cell_type": "code",
      "source": [
        "def sample_func() :  #함수의 선언부입니다. 이름은 sample_func네요\n",
        "  for i in range(10) : #for 문의 area도 역시 들여쓰기가 되어있는 부분 까지입니다.\n",
        "    print('in for loop')\n",
        "  print('out of for loop')\n",
        "\n",
        "sample_func()"
      ],
      "execution_count": 46,
      "outputs": [
        {
          "output_type": "stream",
          "text": [
            "in for loop\n",
            "in for loop\n",
            "in for loop\n",
            "in for loop\n",
            "in for loop\n",
            "in for loop\n",
            "in for loop\n",
            "in for loop\n",
            "in for loop\n",
            "in for loop\n",
            "out of for loop\n"
          ],
          "name": "stdout"
        }
      ]
    },
    {
      "metadata": {
        "id": "sdSnpLN08FBH",
        "colab_type": "code",
        "colab": {}
      },
      "cell_type": "code",
      "source": [
        ""
      ],
      "execution_count": 0,
      "outputs": []
    }
  ]
}